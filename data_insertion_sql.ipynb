{
  "nbformat": 4,
  "nbformat_minor": 0,
  "metadata": {
    "colab": {
      "provenance": [],
      "authorship_tag": "ABX9TyPLLTdB4/Z3+F3CRpfWGKZ6",
      "include_colab_link": true
    },
    "kernelspec": {
      "name": "python3",
      "display_name": "Python 3"
    },
    "language_info": {
      "name": "python"
    }
  },
  "cells": [
    {
      "cell_type": "markdown",
      "metadata": {
        "id": "view-in-github",
        "colab_type": "text"
      },
      "source": [
        "<a href=\"https://colab.research.google.com/github/Hemalatha-mahesh/imdb-2024-data-scrapping/blob/main/data_insertion_sql.ipynb\" target=\"_parent\"><img src=\"https://colab.research.google.com/assets/colab-badge.svg\" alt=\"Open In Colab\"/></a>"
      ]
    },
    {
      "cell_type": "code",
      "execution_count": null,
      "metadata": {
        "id": "Mclb9WygPxmV"
      },
      "outputs": [],
      "source": []
    },
    {
      "cell_type": "code",
      "source": [
        "! pip install pandas"
      ],
      "metadata": {
        "colab": {
          "base_uri": "https://localhost:8080/"
        },
        "id": "jc446NjMQLP1",
        "outputId": "3638673f-c41d-47f8-c864-0c59d18a043c"
      },
      "execution_count": 1,
      "outputs": [
        {
          "output_type": "stream",
          "name": "stdout",
          "text": [
            "Requirement already satisfied: pandas in /usr/local/lib/python3.12/dist-packages (2.2.2)\n",
            "Requirement already satisfied: numpy>=1.26.0 in /usr/local/lib/python3.12/dist-packages (from pandas) (2.0.2)\n",
            "Requirement already satisfied: python-dateutil>=2.8.2 in /usr/local/lib/python3.12/dist-packages (from pandas) (2.9.0.post0)\n",
            "Requirement already satisfied: pytz>=2020.1 in /usr/local/lib/python3.12/dist-packages (from pandas) (2025.2)\n",
            "Requirement already satisfied: tzdata>=2022.7 in /usr/local/lib/python3.12/dist-packages (from pandas) (2025.2)\n",
            "Requirement already satisfied: six>=1.5 in /usr/local/lib/python3.12/dist-packages (from python-dateutil>=2.8.2->pandas) (1.17.0)\n"
          ]
        }
      ]
    },
    {
      "cell_type": "code",
      "source": [
        "! pip install mysql-connector-python"
      ],
      "metadata": {
        "colab": {
          "base_uri": "https://localhost:8080/"
        },
        "id": "sMYrgafXQLg5",
        "outputId": "0d91e406-9178-43cb-cc0f-39348b72a863"
      },
      "execution_count": 2,
      "outputs": [
        {
          "output_type": "stream",
          "name": "stdout",
          "text": [
            "Collecting mysql-connector-python\n",
            "  Downloading mysql_connector_python-9.4.0-cp312-cp312-manylinux_2_28_x86_64.whl.metadata (7.5 kB)\n",
            "Downloading mysql_connector_python-9.4.0-cp312-cp312-manylinux_2_28_x86_64.whl (33.9 MB)\n",
            "\u001b[2K   \u001b[90m━━━━━━━━━━━━━━━━━━━━━━━━━━━━━━━━━━━━━━━━\u001b[0m \u001b[32m33.9/33.9 MB\u001b[0m \u001b[31m31.3 MB/s\u001b[0m eta \u001b[36m0:00:00\u001b[0m\n",
            "\u001b[?25hInstalling collected packages: mysql-connector-python\n",
            "Successfully installed mysql-connector-python-9.4.0\n"
          ]
        }
      ]
    },
    {
      "cell_type": "code",
      "source": [
        "import pandas as pd\n",
        "import mysql.connector\n",
        "\n",
        "# === Step 1: Read CSV file ===\n",
        "csv_file = \"/content/cleaned_data.csv\"   # Change this to your CSV file path\n",
        "df = pd.read_csv(csv_file)\n",
        "\n",
        "# Handle missing values (important for SQL insert)\n",
        "df = df.fillna(0)\n",
        "\n",
        "# === Step 2: Connect to TiDB Cloud ===\n",
        "mydb = mysql.connector.connect(\n",
        "    host=\"gateway01.ap-southeast-1.prod.aws.tidbcloud.com\",\n",
        "    port=4000,\n",
        "    user=\"3ZnYqfQTEsJNQce.root\",\n",
        "    password=\"gybKhZEBwPo9Zwxr\",\n",
        "    database=\"testdb\"   # 👈 change to your TiDB database name\n",
        ")\n",
        "print(\"Connected:\", mydb.is_connected())\n",
        "\n",
        "mycursor = mydb.cursor(buffered=True)\n",
        "\n",
        "# === Step 3: Create table if not exists ===\n",
        "mycursor.execute(\"\"\"\n",
        "CREATE TABLE IF NOT EXISTS movies (\n",
        "    Movie_Name VARCHAR(255),\n",
        "    Genre VARCHAR(100),\n",
        "    Duration INT,\n",
        "    Ratings FLOAT,\n",
        "    Voting_counts INT\n",
        ")\n",
        "\"\"\")\n",
        "\n",
        "# === Step 4: Prepare bulk insert ===\n",
        "sql = \"\"\"INSERT INTO movies (Movie_Name, Genre, Duration, Ratings, Voting_counts)\n",
        "         VALUES (%s, %s, %s, %s, %s)\"\"\"\n",
        "\n",
        "values = df[['Movie_Name', 'Genre', 'Duration', 'Ratings', 'Voting_counts']].values.tolist()\n",
        "\n",
        "# === Step 5: Execute bulk insert ===\n",
        "mycursor.executemany(sql, values)\n",
        "mydb.commit()\n",
        "\n",
        "print(f\"Inserted {mycursor.rowcount} rows into TiDB Cloud\")\n",
        "\n",
        "# === Step 6: Close connection ===\n",
        "mycursor.close()\n",
        "mydb.close()\n"
      ],
      "metadata": {
        "colab": {
          "base_uri": "https://localhost:8080/"
        },
        "id": "WEY8MNp5N3U6",
        "outputId": "b564c07e-4f9b-46ab-a56f-ffc69a125fec"
      },
      "execution_count": 3,
      "outputs": [
        {
          "output_type": "stream",
          "name": "stdout",
          "text": [
            "Connected: True\n",
            "Inserted 1458 rows into TiDB Cloud\n"
          ]
        }
      ]
    }
  ]
}